{
 "cells": [
  {
   "cell_type": "markdown",
   "metadata": {
    "colab_type": "text",
    "id": "9JjEgNOYnf9X"
   },
   "source": [
    "![ADSA Logo](http://i.imgur.com/BV0CdHZ.png?2 \"ADSA Logo\")"
   ]
  },
  {
   "cell_type": "markdown",
   "metadata": {
    "colab_type": "text",
    "id": "ds15bpiNnrTv"
   },
   "source": [
    "# ADSA Python Workshop"
   ]
  },
  {
   "cell_type": "markdown",
   "metadata": {
    "colab_type": "text",
    "id": "9fDGfmwbsi7V"
   },
   "source": [
    "## Agenda"
   ]
  },
  {
   "cell_type": "markdown",
   "metadata": {
    "colab_type": "text",
    "id": "GFp8pZdxKEuq"
   },
   "source": [
    "* Understand the ABC's of Python\n",
    "\n",
    "\n",
    "* Work with basic data structures\n",
    "\n",
    "\n",
    "* Create loops\n",
    "\n",
    "* #### Declare functions\n",
    "* #### See how this applies to a real-word financial context"
   ]
  },
  {
   "cell_type": "markdown",
   "metadata": {
    "colab_type": "text",
    "id": "XWQHxaPlKomq"
   },
   "source": [
    "***\n",
    "## Functions"
   ]
  },
  {
   "cell_type": "markdown",
   "metadata": {
    "colab_type": "text",
    "id": "D1fP7PQbKomq"
   },
   "source": [
    "Functions are a set of actions that we group together, and give a name to. We can define our own functions, which allows us to \"teach\" Python new behavior.\n",
    "\n",
    "Here is the general syntax for defining and calling functions.\n",
    "\n",
    "    # Let's define a function.\n",
    "    def function_name(argument_1, argument_2):\n",
    "        # Do whatever we want this function to do,\n",
    "        # using argument_1 and argument_2\n",
    "        \n",
    "    # Use function_name to call the function.\n",
    "    function_name(value_1, value_2)"
   ]
  },
  {
   "cell_type": "markdown",
   "metadata": {
    "colab_type": "text",
    "id": "WxeKyvFOKomq"
   },
   "source": [
    "* __Defining a function__\n",
    "    * The keyword `def` tells Python that you are about to define a function.\n",
    "    * Functions have a name. A variable name tells you what kind of value the variable contains; a function name should tell you what the function does.\n",
    "    * The values inside parentheses are called __arguments__ or __parameters__. Functions use parameters to get data it may need to execute.\n",
    "        * These are basically variable names, but they are only used in the function.\n",
    "        * They can be different names than what you use in the rest of your program.\n",
    "    * Make sure the function definition line ends with a colon.\n",
    "* __Using your function__\n",
    "    * To call your function, write its name followed by parentheses.\n",
    "    * Inside the parentheses, provide the values for the function's parameters.\n",
    "    * These can be values can be other variables you have defined or literal values."
   ]
  },
  {
   "cell_type": "code",
   "execution_count": 0,
   "metadata": {
    "colab": {},
    "colab_type": "code",
    "id": "a-EGL6yJKomq"
   },
   "outputs": [],
   "source": [
    "# This function prints a two-line personalized thank you message.\n",
    "def say_hello(name):\n",
    "    # print() is also a function!\n",
    "    # It prints the string you give it onto the screen.\n",
    "    \n",
    "    print('Hello, {0}!'.format(name))\n",
    "    print('How\\'s it going?') # Note that the \\ character allows you to use single quotes without ending the string"
   ]
  },
  {
   "cell_type": "code",
   "execution_count": 0,
   "metadata": {
    "colab": {},
    "colab_type": "code",
    "id": "JEDS5sClKomt"
   },
   "outputs": [],
   "source": [
    "# now we can use the function that we just defined\n",
    "say_hello('Adriana')\n",
    "say_hello('Billy')\n",
    "say_hello('Caroline')"
   ]
  },
  {
   "cell_type": "markdown",
   "metadata": {
    "colab_type": "text",
    "id": "2Pxvs9caKomv"
   },
   "source": [
    "You have already used quite a lot of built in functions so far. Here's some more functions that we can use on lists to sort them."
   ]
  },
  {
   "cell_type": "code",
   "execution_count": 0,
   "metadata": {
    "colab": {},
    "colab_type": "code",
    "id": "zAhKRN_eKomw"
   },
   "outputs": [],
   "source": [
    "students = ['Bernice', 'Aaron', 'Cody']\n",
    "\n",
    "# Use the sort function to put students in alphabetical order.\n",
    "students.sort()\n",
    "\n",
    "# Display the list in its current order.\n",
    "print(\"Students in alphabetical order.\")\n",
    "for student in students:\n",
    "    print(student.title())\n",
    "\n",
    "# Give the sort function the reverse parameter\n",
    "# This puts students in reverse alphabetical order.\n",
    "students.sort(reverse=True)\n",
    "\n",
    "# Display the list in reverse order.\n",
    "print(\"\\nStudents in reverse alphabetical order.\")\n",
    "for student in students:\n",
    "    print(student.title())"
   ]
  },
  {
   "cell_type": "markdown",
   "metadata": {
    "colab_type": "text",
    "id": "DAJ-_uazKomy"
   },
   "source": [
    "### Returning Values from Functions\n",
    "\n",
    "Functions can also return values. This is useful when we want the function to compute some data and give it back to us to use elsewhere in our code.\n",
    "\n",
    "Note: once a function returns something, Python moves out of that code. So anything after the return statement will not be run."
   ]
  },
  {
   "cell_type": "code",
   "execution_count": 0,
   "metadata": {
    "colab": {},
    "colab_type": "code",
    "id": "QUq72xKmKomz",
    "outputId": "569bfba4-d9aa-4122-d844-f47fa515d30d"
   },
   "outputs": [
    {
     "name": "stdout",
     "output_type": "stream",
     "text": [
      "Adding 5 to 10 now...\n",
      "New number is: 15\n"
     ]
    }
   ],
   "source": [
    "def add_five(number):\n",
    "    print(\"Adding 5 to\", number, \"now...\")\n",
    "    return number + 5\n",
    "    # We have already returned out of the function, the line below is arbitrary\n",
    "    print(\"This will not get printed\")\n",
    "    \n",
    "# Now use your function add_five()\n",
    "num = add_five(10)\n",
    "print(\"New number is:\", num)"
   ]
  },
  {
   "cell_type": "code",
   "execution_count": 0,
   "metadata": {
    "colab": {},
    "colab_type": "code",
    "id": "SU4ujjryKom3",
    "outputId": "571c115f-4dcb-413f-c590-87c1a19c1f1d"
   },
   "outputs": [
    {
     "name": "stdout",
     "output_type": "stream",
     "text": [
      "0 N/A\n",
      "1 one\n",
      "2 two\n",
      "3 three\n"
     ]
    }
   ],
   "source": [
    "def get_number_word(number):\n",
    "    # Takes in a numerical value, and returns the word corresponding to that number.\n",
    "    if number == 1:\n",
    "        return 'one'\n",
    "    elif number == 2:\n",
    "        return 'two'\n",
    "    elif number == 3:\n",
    "        return 'three'\n",
    "    else:\n",
    "        return 'N/A'\n",
    "    \n",
    "# Let's try out our function.\n",
    "for number in range(0, 4):\n",
    "    number_word = get_number_word(number)\n",
    "    print(number, number_word)"
   ]
  },
  {
   "cell_type": "markdown",
   "metadata": {
    "colab_type": "text",
    "id": "QAx6UBqUKom5"
   },
   "source": [
    "### Exercise \n",
    "Now try writing a function called `future_age` that takes in a name, current_age, and n_years as parameters, and returns a message with their name saying how old they will be in n_years. For example: future_age('Bill', 20, 13) should return 'Bill will be 33 years old in 13 years'."
   ]
  },
  {
   "cell_type": "code",
   "execution_count": 0,
   "metadata": {
    "colab": {},
    "colab_type": "code",
    "id": "ojehvvj_Kom6"
   },
   "outputs": [],
   "source": [
    "# Enter your code below"
   ]
  },
  {
   "cell_type": "markdown",
   "metadata": {
    "colab_type": "text",
    "id": "QAVVx_wPKom7"
   },
   "source": [
    "### Exercise \n",
    "Now you try writing a function called called `factorial`, which takes in a paramter n, and returns `n!`. Then, try testing your function out, factorial(5) should return 120. (Note that the factorial of 0 is 1, so we can start our return variable at 1 rather than 0.)"
   ]
  },
  {
   "cell_type": "code",
   "execution_count": 0,
   "metadata": {
    "colab": {},
    "colab_type": "code",
    "id": "ELAcReWpKom8"
   },
   "outputs": [],
   "source": [
    "# Enter your code below"
   ]
  },
  {
   "cell_type": "markdown",
   "metadata": {
    "colab_type": "text",
    "id": "Qs8WfmLGKom9"
   },
   "source": [
    "### Exercise\n",
    "\n",
    "<b>Applies the following:</b>\n",
    "- loops\n",
    "- lists\n",
    "- math operators\n",
    "- functions\n"
   ]
  },
  {
   "cell_type": "code",
   "execution_count": 0,
   "metadata": {
    "colab": {},
    "colab_type": "code",
    "id": "aN-o7_yoKom9"
   },
   "outputs": [],
   "source": [
    "# execute this line first\n",
    "list_data = [20, 50, 30, 70, 42, 30, 56, 72, 88, 90, 4, 65, 77, 42, 57]"
   ]
  },
  {
   "cell_type": "code",
   "execution_count": 0,
   "metadata": {
    "colab": {},
    "colab_type": "code",
    "id": "u3IXnyKPKonB"
   },
   "outputs": [],
   "source": [
    "# write a function that will take any list of numbers and sum up the values\n",
    "# this function should return the sum of the list.\n",
    "# add parameters if necessary\n",
    "def sum_list():\n",
    "    # start here\n",
    "    \n",
    "    return # may need to modify this\n",
    "    \n",
    "# write another function that will take the sum and print out each digit separately\n",
    "# example - 3174 should print out '3', '1', '7', and '4'\n",
    "def print_digits():\n",
    "    # start here\n",
    "    \n",
    "    return # may need to modify this\n",
    "\n",
    "# write the code to make use of the functions that you wrote\n",
    "# Enter your code below\n",
    "\n"
   ]
  },
  {
   "cell_type": "markdown",
   "metadata": {
    "colab_type": "text",
    "id": "KiiC0E92NJvS"
   },
   "source": [
    "## Real life application"
   ]
  },
  {
   "cell_type": "markdown",
   "metadata": {
    "colab_type": "text",
    "id": "JSv0X5g-NVLF"
   },
   "source": [
    "### Exercise\n",
    "\n",
    "<b>Applies the following:</b>\n",
    "- loops\n",
    "- lists\n",
    "- math operators\n"
   ]
  },
  {
   "cell_type": "markdown",
   "metadata": {
    "colab_type": "text",
    "id": "Pfqw49oQNd_H"
   },
   "source": [
    "The ultimate goal for this excercise is to remove noise from historical stock data !"
   ]
  },
  {
   "cell_type": "code",
   "execution_count": 0,
   "metadata": {
    "colab": {},
    "colab_type": "code",
    "id": "CuooehLrNULo"
   },
   "outputs": [],
   "source": [
    "# Do not change contents of this cell\n",
    "# Import Required libraries\n",
    "import pandas\n",
    "import matplotlib.pyplot as plt\n",
    "closing_data=[23.89, 23.83, 21.96, 19.2, 16.11, 15.8, 17.46, 17.4, 17.05, 18.14, 19.84, 19.89, 20.64, 21.91, 20.3, 20.22, 21.0, 21.29, 20.95, 20.55, 20.72, 20.35, 19.94, 20.92, 21.95, 21.26, 20.45, 19.59, 19.6, 19.03, 17.9, 17.6, 18.32, 18.78, 19.15, 18.77, 18.79, 19.1, 20.13, 19.2, 19.9, 19.75, 19.7, 19.87, 19.48, 20.45, 21.06, 21.05, 20.54, 20.9, 20.71, 20.17, 20.72, 21.12, 21.98, 20.94, 20.23, 21.055, 20.77, 19.87, 19.56, 20.1, 20.53, 21.4, 21.98, 20.405, 20.6, 20.99, 21.12, 20.46, 20.43, 20.43, 20.24, 20.24, 20.54, 20.75, 20.54, 20.23, 20.05, 20.65, 20.75, 20.72, 20.85, 21.36, 21.0, 21.19, 21.84, 21.41, 21.25, 21.77, 24.9, 24.44, 24.98, 24.63, 29.36, 28.035, 29.84, 30.8, 29.67, 29.49, 29.89, 30.99, 33.4, 34.57, 35.47, 35.32, 34.33, 35.33, 34.35, 32.35, 31.49, 30.31, 31.56, 32.37, 32.05, 31.52, 30.55, 28.53, 29.6, 30.81, 31.36, 31.7, 32.26, 32.63, 30.09, 25.549, 26.41, 27.73, 26.5, 26.63, 26.62, 26.67, 26.83, 27.88, 28.24, 28.45, 26.96, 26.96, 26.22, 25.75, 25.64, 24.03, 22.62, 23.04, 24.49, 24.68, 24.75, 24.92, 24.01, 24.1, 23.91, 23.94, 23.63, 23.46, 23.07, 24.49, 23.21, 23.215, 23.25, 23.08, 22.84, 24.73, 23.6, 23.18, 21.87, 21.83, 22.53, 23.61, 23.89, 23.94, 24.02, 24.36, 24.95, 24.94, 24.66, 24.72, 24.01, 24.07, 23.25, 22.95, 22.82, 22.81, 22.96, 22.73, 22.19, 22.21, 22.33, 22.75, 23.25, 23.92, 23.71, 27.75, 26.66, 25.83, 26.7, 26.49, 27.24, 26.49, 25.27, 24.65, 24.93, 25.14, 25.58, 25.03, 25.16, 25.75, 26.74, 26.39, 26.93, 27.08, 27.66, 27.6, 27.45, 26.87, 26.69, 26.44, 27.12, 27.91, 28.33, 27.07, 27.67, 27.55, 26.6, 25.96, 26.35, 28.2, 27.97, 26.82, 26.72, 28.98, 29.48, 29.55, 30.14, 28.517, 28.76, 30.13, 28.7, 28.37, 27.12, 27.62, 27.86, 28.43, 28.6, 27.32, 26.5, 26.5, 26.01, 27.53, 27.21, 27.71, 27.565, 27.46, 28.11, 28.29, 29.13, 29.02, 29.14, 28.96, 29.73, 28.81, 28.35, 28.17, 28.64, 27.61, 27.58, 27.23, 27.89, 28.69, 28.7, 29.29, 28.49, 28.0, 27.64, 28.17, 28.17, 28.77, 27.34, 27.2, 24.75, 24.24, 23.64, 25.06, 23.82, 25.3, 26.31, 26.23, 26.1, 25.83, 24.26, 22.3, 21.95, 22.96, 23.87, 23.11, 23.73, 24.71, 24.63, 24.74, 24.0, 23.07, 22.94, 23.84, 23.61, 22.97, 22.88, 24.08, 24.34, 24.82, 25.8, 25.77, 26.01, 25.85, 25.63, 26.38, 25.52, 26.19, 24.59, 24.12, 24.39, 23.73, 23.66, 25.37, 26.96, 26.99, 27.88, 27.61, 27.8, 27.94, 28.05, 27.42, 28.34, 27.57, 27.34, 28.03, 28.55, 28.25, 27.98, 28.76, 29.87, 29.37, 28.88, 28.71, 32.46, 32.31, 31.27, 31.84, 30.88, 31.33, 33.64, 33.22, 33.93, 34.94, 33.68, 32.6, 31.76, 32.07, 31.45, 31.66, 32.56, 31.75, 32.74, 32.6, 33.3, 34.42, 34.87, 34.19, 30.89, 31.04, 30.41, 29.45, 28.53, 28.62, 28.0, 27.75, 27.9, 27.57, 27.77, 27.9, 28.57, 28.51, 28.73, 28.56, 28.08, 27.71, 27.12, 26.91, 27.25, 27.62, 28.23, 28.25, 22.79, 26.6, 26.81, 26.76, 26.6, 26.77, 27.42, 27.97, 28.94, 29.33, 29.57, 29.07, 29.58, 30.25, 31.15, 31.8, 31.6, 31.93, 32.58, 31.1, 31.49, 33.17, 33.6, 34.18, 34.97, 34.5, 34.22, 34.53, 33.75, 33.62, 33.81, 33.41, 34.41, 34.04, 33.77, 33.11, 33.12, 33.07, 34.74, 36.01, 36.09, 35.29, 35.0, 35.32, 34.98, 34.96, 35.15, 34.4, 34.08, 37.4, 37.94, 37.85, 37.33, 37.24, 36.58, 38.01, 35.0, 34.48, 33.15, 32.46, 33.09, 33.44, 33.59, 32.25, 32.24, 32.66, 33.16, 33.16, 31.94, 31.82, 32.91, 33.49, 33.34, 33.13, 33.78, 33.94, 32.46, 31.83, 32.47, 30.19, 30.06, 32.96, 32.25, 30.06, 29.43, 29.18, 28.57, 27.56, 28.77, 30.79, 31.02, 30.32, 29.81, 31.69, 30.41, 29.5, 28.15, 27.88, 27.91, 29.22, 28.93, 30.08, 29.12, 29.66, 29.77, 29.39, 29.91, 31.84, 32.09, 33.78, 32.19, 33.785, 33.11, 31.61, 31.96, 31.41, 31.29, 30.4, 30.66, 31.23, 30.99, 31.49, 31.27, 31.51, 32.7, 34.25, 35.96, 33.35, 32.15, 32.27, 31.79, 30.66, 29.84, 28.95, 28.13, 29.51, 27.35, 27.42, 26.25, 26.1, 27.27, 28.27, 30.25, 29.09, 29.41, 29.94, 31.17, 29.42, 29.4, 30.3, 30.01, 29.51, 29.11, 29.95, 30.73, 29.5, 28.32, 28.69, 28.41, 28.41, 28.52, 28.14, 27.94, 28.55, 29.35, 27.37, 27.8, 28.28, 29.48, 30.39, 32.54, 31.34, 31.05, 30.9, 30.02, 30.66, 27.66, 27.54, 28.49, 29.28, 29.16, 29.8, 29.3, 29.4, 28.89, 29.25, 28.37, 28.4, 28.32, 27.64, 27.33, 28.06, 28.8191, 28.04, 27.74, 27.85, 28.39, 27.42, 27.52, 27.38, 28.1314, 29.2454, 28.9182, 31.5, 31.15, 31.54, 31.31, 30.32, 31.07, 31.6143, 31.38, 30.82, 31.8399, 32.92, 33.0, 32.47, 32.13, 32.27, 32.15, 33.23, 33.69, 33.82, 34.62, 33.9, 33.71, 33.9, 34.17, 34.57, 35.28, 35.26, 33.61, 33.81, 34.4, 34.59, 34.61, 34.43, 34.0, 34.28, 33.59, 33.69, 33.22, 33.87, 35.36, 34.77, 34.4, 34.34, 33.68, 33.64, 33.53, 32.91, 33.26, 33.9, 34.1, 34.38, 34.52, 35.19, 36.0, 36.99, 36.98, 38.03, 37.95, 37.52, 37.51, 38.3, 37.74, 38.13, 39.17, 39.48, 39.24, 38.42, 37.89, 38.45, 38.3, 37.04, 39.28, 38.54, 35.16, 36.11, 34.38, 34.43, 35.1, 34.83, 34.65, 35.58, 36.65, 37.69, 38.23, 38.47, 39.1, 39.12, 38.98, 36.85, 35.29, 35.15, 35.08, 35.95, 36.01, 36.62, 37.53, 37.86, 38.16, 37.89, 43.93, 44.34, 41.1, 42.01, 41.37, 41.83, 40.5, 41.86, 43.59, 43.75, 43.3, 45.59, 45.45, 46.97, 47.83, 50.19, 51.01, 50.43, 52.0, 51.2, 54.94, 53.99, 53.28, 54.11, 54.55, 59.5, 55.51, 55.7865, 69.4, 76.764, 87.8, 83.24, 84.842, 92.248, 91.5, 89.94, 87.59, 87.24, 92.73, 97.08, 110.334, 104.629, 104.95, 97.76, 92.59, 94.84, 95.37, 97.35, 102.04, 100.05, 94.47, 97.73, 98.18, 100.3, 102.2, 103.39, 104.68, 100.65, 99.55, 101.49, 102.4, 105.72, 109.25, 107.36, 117.179, 117.82, 115.24, 120.09, 121.61, 123.45, 122.27, 125.61, 129.9, 127.26, 109.05, 120.25, 119.03, 119.68, 122.43, 122.74, 121.7, 124.07, 129.39, 134.62, 131.74, 134.28, 135.55, 138.0, 144.68, 142.15, 134.23, 153.48, 153.0, 147.38, 145.43, 139.36, 139.67, 142.0, 144.9, 149.58, 147.86, 157.1, 161.839, 164.22, 167.01, 166.45, 166.06, 169.0, 168.94, 170.622, 169.93, 166.97, 160.7, 166.37, 163.52, 164.93, 165.54, 166.58, 166.23, 166.218, 177.92, 183.39, 181.11, 182.33, 185.238, 188.64, 190.9, 193.37, 193.0, 180.95, 173.31, 180.98, 183.07, 174.73, 168.78, 172.93, 178.7, 179.72, 183.94, 183.56, 182.802, 183.4, 172.6, 171.54, 164.5, 173.15, 169.66, 162.86, 164.47, 159.22, 159.94, 162.17, 175.2, 176.81, 151.16, 139.772, 137.95, 144.698, 137.8, 138.7, 137.6, 135.45, 121.58, 126.09, 121.11, 122.1, 121.38, 120.84, 120.5, 126.94, 127.28, 124.17, 144.7, 138.95, 140.48, 137.36, 141.6, 142.19, 139.65, 147.47, 147.654, 147.94, 152.46, 147.98, 140.72, 143.24, 143.55, 151.41, 155.5, 151.12, 152.44, 150.429, 150.1, 149.56, 147.0, 149.36, 151.28, 147.53, 145.7199, 139.34, 161.27, 164.13, 170.97, 170.01, 176.68, 178.56, 181.5, 174.6, 169.62, 178.38, 175.23, 182.84, 181.41, 177.11, 178.73, 174.42, 178.38, 186.53, 196.56, 196.62, 195.32, 199.63, 198.23, 203.7, 193.64, 209.97, 209.6, 217.65, 248.0, 253.0, 252.54, 244.81, 250.56, 254.84, 252.66, 252.94, 246.21, 238.84, 234.41, 241.49, 237.79, 230.97, 233.98, 240.04, 235.84, 234.91, 228.89, 220.17, 220.44, 212.96, 207.32, 212.37, 208.45, 216.97, 230.29, 225.4, 212.225, 207.52, 215.46, 216.93, 204.19, 203.78, 198.09, 193.91, 199.11, 198.12, 204.38, 218.64, 207.99, 207.86, 199.85, 198.51, 206.92, 207.89, 207.73, 210.91, 216.61, 207.28, 201.35, 178.59, 182.26, 184.67, 190.16, 190.62, 188.59, 191.56, 196.09, 195.3, 199.45, 204.88, 207.3, 211.56, 210.24, 210.24, 207.77, 204.7, 204.94, 203.99, 206.9, 208.171, 205.31, 202.3, 204.47, 203.52, 206.42, 224.61, 231.67, 227.12, 227.79, 229.59, 237.22, 232.5, 236.891, 235.6, 239.06, 240.06, 239.72, 229.425, 229.25, 222.66, 219.07, 223.06, 219.46, 218.13, 226.7, 219.58, 217.16, 215.4, 220.0201, 220.54, 219.58, 222.49, 223.54, 223.57, 224.82, 225.01, 228.92, 223.3, 233.27, 238.52, 238.49, 248.9301, 252.39, 248.13, 259.32, 259.96, 260.31, 261.38, 262.01, 259.94, 256.76, 255.71, 254.34, 256.78, 262.55, 261.74, 263.25, 263.86, 269.7, 284.12, 281.19, 286.04, 277.39, 282.11, 278.48, 281.1, 280.31, 279.2, 253.86, 260.74, 261.38, 263.82, 259.32, 250.03, 250.41, 252.14, 246.95, 246.6, 245.26, 242.68, 240.24, 251.42, 255.21, 260.62, 259.57, 259.28, 257.01, 236.91, 224.59, 227.06, 229.7, 226.35, 227.48, 230.47, 235.34, 231.1, 235.29, 235.24, 221.67, 242.77, 238.1, 238.66, 241.7, 242.59, 238.93, 230.97, 241.22, 240.2, 241.93, 251.08, 249.1, 251.7, 258.68, 253.98, 257.7, 247.74, 248.71, 242.78, 246.72, 248.09, 248.44, 244.52, 231.64, 231.43, 229.3, 228.28, 223.71, 214.36, 216.89, 209.84, 208.88, 207.0, 204.04, 197.81, 205.82, 218.26, 219.29, 222.6, 220.97, 222.26, 227.82, 225.71, 222.23, 222.41, 219.31, 210.09, 211.28, 210.95, 210.615, 206.66, 202.21, 204.25, 192.69, 191.87, 193.07, 191.93, 196.57, 201.62, 201.29, 206.55, 205.98, 199.37, 205.2, 203.6, 210.94, 218.36, 218.55, 220.99, 217.36, 217.48, 216.29, 212.8, 202.88, 203.77, 204.35, 204.46, 211.705, 217.11, 207.335, 204.11, 203.76, 207.19, 203.34, 197.325, 199.56, 202.435, 200.63, 193.88, 190.88, 190.32, 193.74, 191.07, 188.68, 195.7, 194.73, 200.71, 195.65, 198.08, 199.63, 201.72, 194.3, 190.405, 185.0, 190.57, 188.77, 187.59, 191.0, 203.1, 203.25, 207.67, 210.09, 210.9, 209.78, 207.46, 207.83, 206.7, 206.79, 205.27, 209.41, 219.44, 218.6, 218.425, 231.55, 230.48, 232.45, 226.05, 226.03, 230.51, 232.95, 230.43, 236.8, 236.61, 239.49, 244.74, 243.18, 244.1, 248.84, 248.75, 247.14, 244.35, 245.62, 247.73, 247.455, 247.43, 251.45, 250.8, 249.45, 248.35, 248.99, 245.92, 249.14, 256.29, 256.0, 250.7, 251.41, 250.69, 250.38, 253.12, 260.41, 261.89, 262.51, 259.79, 267.67, 265.17, 268.79, 267.09, 262.02, 268.26, 269.15, 280.02, 279.72, 267.88, 254.96, 257.92, 259.15, 262.16, 265.65, 263.14, 266.68, 274.66, 282.26, 266.77, 267.87, 267.2, 265.41, 253.01, 264.82, 263.82, 266.79, 266.15, 259.99, 266.28, 270.13, 246.13, 242.51, 241.14, 237.37, 238.17, 242.51, 243.15, 254.99, 260.72, 255.25, 242.18, 230.77, 218.87, 220.03, 224.84, 242.99, 248.48, 249.06, 238.63, 247.69, 245.57, 241.93, 248.17, 248.91, 248.48, 250.24, 253.19, 253.57, 262.25, 262.07, 260.62, 264.2, 260.94, 261.06, 263.12, 256.91, 248.43, 246.65, 248.4, 239.88, 247.57, 246.15, 241.46, 231.96, 226.72, 220.69, 215.58, 219.25, 216.88, 221.31, 227.01, 228.1, 213.03, 210.09, 211.72, 209.09, 215.26, 210.35, 212.96, 211.63, 206.93, 213.79, 208.35, 231.63, 231.77, 232.36, 225.33, 216.5, 219.08, 212.94, 207.19, 214.31, 214.0, 221.07, 221.8, 220.01, 217.75, 218.25, 229.64, 231.61, 230.26, 237.19, 231.99, 232.71, 230.38, 231.13, 226.72, 224.52, 227.07, 217.02, 218.58, 221.09, 234.51, 233.39, 230.46, 232.56, 229.95, 229.7, 230.57, 228.95, 237.19, 238.09, 240.01, 223.41, 223.43, 219.04, 215.65, 211.0, 207.85, 209.97, 200.31, 206.18, 204.99, 204.72, 198.7, 199.97, 202.55, 196.38, 193.56, 188.07, 189.7, 191.2, 196.94, 182.78, 173.48, 175.33, 162.6, 147.99, 148.25, 143.67, 150.47, 151.04, 155.17, 168.68, 166.77, 166.58, 177.74, 177.21, 179.0, 187.43, 190.34, 191.93, 186.35, 188.34, 195.74, 201.04, 205.29, 202.6, 208.72, 205.18, 207.5, 215.15, 218.34, 221.93, 226.38, 232.74, 238.32, 234.24, 222.58, 227.75, 230.26, 230.13, 226.89, 229.77, 237.59, 246.99, 255.47, 265.42, 257.2, 250.07, 249.92, 247.82, 254.53, 251.86, 254.51, 253.88, 247.37, 249.97, 248.29, 253.75, 251.82, 253.74, 251.47, 247.71, 240.76, 241.8, 232.32, 222.56, 211.53, 214.93, 208.92, 208.69, 208.96, 207.28, 207.61, 208.29, 204.66, 211.17, 215.21, 220.28, 216.22, 217.91, 219.58, 225.12, 223.04, 223.23, 219.56, 218.96, 218.99, 220.68, 232.34, 235.52, 229.36, 218.79, 217.87, 214.96, 217.7, 217.93, 215.47, 219.7, 219.61, 196.66, 196.4, 193.15, 198.55, 201.79, 210.19, 212.28, 216.5, 213.98, 214.44, 215.94, 216.78, 224.78, 224.65, 222.53, 221.53, 220.4, 226.25, 225.26, 228.36, 220.5, 222.27, 230.01, 229.51, 228.49, 230.61, 234.79, 230.01, 227.2, 225.79, 230.61, 230.03, 226.16, 229.08, 225.65, 224.91, 225.61, 225.59, 223.61, 223.24, 223.51, 225.0, 222.93, 224.84, 222.62, 220.96, 219.99, 215.2, 211.34, 212.01, 200.77, 197.78, 202.83, 201.71, 197.36, 194.47, 198.3, 196.05, 196.41, 200.42, 205.4, 206.34, 204.64, 205.22, 206.43, 207.45, 208.99, 205.81, 206.27, 200.7, 204.03, 213.7, 211.41, 208.46, 201.0, 196.61, 200.95, 200.1, 201.51, 200.24, 196.51, 193.96, 199.1, 203.56, 199.1, 200.09, 202.76, 202.34, 202.24, 204.01, 199.97, 197.73, 190.79, 188.02, 187.42, 190.56, 193.21, 194.94, 190.06, 185.35, 188.56, 181.45, 183.77, 183.93, 188.66, 185.02, 184.52, 191.17, 193.14, 196.65, 196.12, 189.57, 189.4, 181.88, 181.47, 186.8, 185.85, 193.15, 192.29, 192.18, 192.43, 198.15, 198.69, 197.58, 202.49, 202.73, 208.79, 207.7, 208.45, 213.34, 219.53, 219.74, 214.68, 213.69, 216.99, 226.99, 226.75, 229.01, 231.28, 229.87, 229.73, 229.59, 237.75, 235.58, 238.36, 243.76, 244.73, 248.92, 254.61, 254.47, 252.51, 252.95, 250.63, 251.93, 249.24, 251.55, 251.33, 257.77, 257.48, 262.08, 269.2, 269.23, 280.6, 280.98, 279.76, 268.95, 272.23, 277.39, 273.51, 255.99, 257.0, 246.23, 249.99, 250.02, 250.48, 251.57, 251.21, 248.59, 246.87, 244.9, 243.69, 246.17, 258.0, 255.73, 262.05, 261.5, 261.92, 250.68, 255.01, 254.78, 263.16, 270.22, 277.45, 277.38, 277.92, 278.3, 298.52, 303.7, 295.0, 298.7, 302.54, 312.39, 308.71, 296.84, 304.0, 301.44, 300.25, 305.52, 302.51, 305.6, 308.03, 313.79, 310.17, 308.63, 314.07, 322.83, 318.89, 311.02, 295.46, 308.35, 307.19, 321.26, 325.22, 323.1, 324.81, 315.88, 317.01, 306.11, 313.06, 310.83, 310.35, 303.86, 310.22, 316.83, 325.14, 335.1, 341.01, 340.37, 339.85, 347.32, 352.85, 359.65, 370.0, 357.32, 359.01, 375.95, 380.66, 375.34, 371.4, 369.8, 372.24, 376.4, 382.61, 383.45, 377.49, 362.37, 371.24, 360.75, 361.61, 352.62, 327.09, 308.83, 313.22, 316.05, 327.22, 329.52, 323.41, 327.78, 319.57, 328.24, 325.26, 329.92, 328.4, 342.52, 339.6, 343.85, 334.46, 335.07, 323.47, 319.57, 325.89, 347.09, 356.91, 355.17, 365.22, 363.53, 355.4, 357.87, 363.8, 362.33, 362.91, 351.92, 347.46, 337.86, 341.35, 352.77, 352.93, 348.05, 345.66, 347.36, 353.18, 355.9, 355.4, 349.59, 344.53, 350.61, 343.4, 363.69, 362.75, 366.23, 377.64, 379.81, 385.0, 375.1, 373.91, 366.48, 351.09, 344.99, 345.25, 340.97, 339.6, 341.1, 341.53, 348.14, 355.01, 355.33, 356.88, 342.94, 355.59, 354.6, 355.68, 355.57, 350.6, 355.75, 359.65, 351.81, 345.1, 337.02, 337.34, 325.84, 326.17, 320.87, 320.08, 331.53, 321.08, 299.26, 306.09, 302.78, 306.05, 304.39, 302.99, 302.99, 315.4, 308.7, 311.3, 312.5, 315.05, 308.74, 317.81, 312.6, 315.55, 316.81, 317.55, 307.54, 308.85, 306.53, 305.2, 303.7, 313.26, 311.24, 315.13, 328.91, 341.03, 339.03, 337.89, 343.45, 338.87, 331.1, 328.98, 331.66, 325.2, 317.29, 311.64, 315.36, 311.35, 320.53, 317.25, 314.62, 316.58, 336.41, 333.69, 334.8, 337.95, 336.22, 340.06, 347.16, 344.57, 350.02, 351.56, 352.79, 345.89, 337.64, 342.85, 349.53, 345.82, 354.31, 349.25, 343.75, 333.13, 333.97, 345.0, 315.23, 310.42, 315.73, 323.66, 322.31, 334.065, 335.49, 334.77, 333.3, 346.17, 352.05, 357.42, 350.99, 343.06, 330.93, 335.12, 333.35, 328.2, 332.3, 329.1, 327.17, 345.51, 341.84, 326.63, 325.6, 321.35, 313.56, 310.55, 316.53, 309.1, 301.54, 304.18, 279.18, 257.78, 266.13, 252.48, 267.53, 286.94, 305.72, 299.3, 289.66, 304.7, 300.93, 294.08, 300.34, 291.21, 287.69, 293.35, 300.08, 290.24, 283.37, 283.46, 280.69, 285.48, 294.075, 293.9, 299.92, 301.15, 284.45, 294.09, 302.77, 301.97, 306.85, 305.02, 301.06, 291.97, 284.18, 286.48, 284.54, 276.82, 284.49, 275.01, 279.07, 277.85, 278.85, 283.76, 291.72, 284.73, 291.82, 296.74, 291.13, 319.5, 316.09, 317.66, 332.1, 342.77, 344.78, 357.72, 358.17, 370.83, 352.55, 362.22, 347.51, 333.63, 333.01, 342.0, 344.5, 349.93, 342.95, 335.07, 310.86, 309.16, 308.9, 318.51, 322.47, 318.96, 316.71, 318.87, 310.1, 322.69, 323.85, 320.23, 313.58, 303.2, 297.43, 308.74, 306.65, 297.18, 290.17, 298.14, 300.84, 349.54, 348.17, 341.99, 379.57, 370.34, 352.45, 355.49, 356.41, 347.64, 338.69, 335.45, 305.5, 308.44, 321.9, 321.64, 320.1, 322.82, 319.27, 311.86, 305.01, 303.15, 301.66, 288.95, 280.74, 280.95, 263.24, 285.5, 279.44, 290.54, 289.46, 295.2, 294.84, 284.96, 299.02, 298.33, 299.1, 299.68, 300.99, 309.58, 307.52, 264.77, 310.7, 301.02, 294.8, 281.83, 261.95, 250.56, 262.8, 256.88, 252.23, 258.78, 259.59, 276.59, 271.78, 263.91, 260.0, 260.95, 294.14, 288.5, 314.86, 330.9, 334.85, 329.9, 337.32, 344.28, 346.41, 341.4, 341.06, 348.16, 351.4, 350.51, 331.28, 338.73, 344.0, 348.44, 354.31, 353.47, 347.49, 338.19, 325.83, 346.0, 343.92, 347.87, 341.17, 350.48, 358.49, 359.7, 363.06, 357.965, 365.15, 366.76, 366.6, 376.79, 365.71, 348.42, 337.03, 332.97, 315.38, 319.77, 295.39, 326.09, 316.13, 333.87, 332.8, 310.12, 300.36, 317.69, 334.96, 335.35, 338.53, 344.97, 347.26, 334.4, 344.43, 346.05, 347.31, 302.26, 298.92, 287.59, 291.51, 297.04, 296.38, 297.46, 308.77, 307.02, 312.21, 310.9261]\n",
    "%matplotlib inline"
   ]
  },
  {
   "cell_type": "markdown",
   "metadata": {
    "colab_type": "text",
    "id": "9pf-qhnWVB5r"
   },
   "source": [
    "Let us first visualise the data and see what it looks like !"
   ]
  },
  {
   "cell_type": "code",
   "execution_count": 0,
   "metadata": {
    "colab": {
     "base_uri": "https://localhost:8080/",
     "height": 403
    },
    "colab_type": "code",
    "id": "ZsOTf1-BST6B",
    "outputId": "d92fc721-fb52-450e-c26d-1404cef237a8"
   },
   "outputs": [
    {
     "data": {
      "image/png": "[encoded data removed]",
      "text/plain": [
       "<Figure size 576x432 with 1 Axes>"
      ]
     },
     "metadata": {
      "tags": []
     },
     "output_type": "display_data"
    }
   ],
   "source": [
    "# Do not change contents of this cell\n",
    "n_points = len(closing_data)\n",
    "plt.figure(figsize = (8,6))\n",
    "plt.plot(range(n_points),closing_data)\n",
    "plt.title('Tesla Closing Prices from 2010 till now')\n",
    "plt.xlabel('Number of days from 6/29/10')\n",
    "plt.ylabel('Price (USD)')\n",
    "plt.show()"
   ]
  },
  {
   "cell_type": "markdown",
   "metadata": {
    "colab_type": "text",
    "id": "sMR1MUsUVI-q"
   },
   "source": [
    "As you can see the data is very noisy and when working with such data or High freuency data removing the noise is a very important task and that's what we will do today !\n"
   ]
  },
  {
   "cell_type": "code",
   "execution_count": 0,
   "metadata": {
    "colab": {},
    "colab_type": "code",
    "id": "lf48VJY4VSNC"
   },
   "outputs": [],
   "source": [
    "# This cell needs to be modified\n",
    "\n",
    "\"\"\"\n",
    "  Function that takes in 2 parameters\n",
    "    1) A list with stock prices\n",
    "    2) Number of days to average on\n",
    "  Returns the average stock prices based on num_days in\n",
    "  the form of a list of size len(stock_prices) - num_days\n",
    "\"\"\"\n",
    "def get_smoothened_data(stock_prices, num_days):\n",
    "  # initialize an empty list called avg_data\n",
    "  \n",
    "  # create a for loop groing from 0 to the \"length of stock prices\" - num_days -1 \n",
    "  for i in range():\n",
    "    # define a variable called acc and assign the value 0 to it\n",
    "    \n",
    "    # create a for loop going from the value of i to the value \"i+num_days\"\n",
    "    for j in range():\n",
    "      # to acc add itself and the value at the jth index of stock_prices\n",
    "    \n",
    "    # calculate average by dividing acc by num_days and assign it to a variable\n",
    "    \n",
    "    # append calculated average to the avg_data list\n",
    "    \n",
    "  # return avg_data\n"
   ]
  },
  {
   "cell_type": "markdown",
   "metadata": {
    "colab_type": "text",
    "id": "dj_OZwfhcv7H"
   },
   "source": [
    "Let us now visualise how the data looks without noise !"
   ]
  },
  {
   "cell_type": "code",
   "execution_count": 0,
   "metadata": {
    "colab": {
     "base_uri": "https://localhost:8080/",
     "height": 361
    },
    "colab_type": "code",
    "id": "5-968ViJYNQA",
    "outputId": "6ec37d5c-d5b1-46de-a065-18d88248c864"
   },
   "outputs": [
    {
     "ename": "TypeError",
     "evalue": "ignored",
     "output_type": "error",
     "traceback": [
      "\u001b[0;31m---------------------------------------------------------------------------\u001b[0m",
      "\u001b[0;31mTypeError\u001b[0m                                 Traceback (most recent call last)",
      "\u001b[0;32m<ipython-input-64-02edfb2982d4>\u001b[0m in \u001b[0;36m<module>\u001b[0;34m()\u001b[0m\n\u001b[1;32m      1\u001b[0m \u001b[0mnum_days\u001b[0m \u001b[0;34m=\u001b[0m \u001b[0;36m10\u001b[0m\u001b[0;34m\u001b[0m\u001b[0;34m\u001b[0m\u001b[0m\n\u001b[0;32m----> 2\u001b[0;31m \u001b[0mdata\u001b[0m \u001b[0;34m=\u001b[0m \u001b[0mget_smoothened_data\u001b[0m\u001b[0;34m(\u001b[0m\u001b[0mclosing_data\u001b[0m\u001b[0;34m,\u001b[0m\u001b[0mnum_days\u001b[0m\u001b[0;34m)\u001b[0m\u001b[0;34m\u001b[0m\u001b[0;34m\u001b[0m\u001b[0m\n\u001b[0m\u001b[1;32m      3\u001b[0m \u001b[0mplt\u001b[0m\u001b[0;34m.\u001b[0m\u001b[0mfigure\u001b[0m\u001b[0;34m(\u001b[0m\u001b[0mfigsize\u001b[0m \u001b[0;34m=\u001b[0m \u001b[0;34m(\u001b[0m\u001b[0;36m15\u001b[0m\u001b[0;34m,\u001b[0m\u001b[0;36m6\u001b[0m\u001b[0;34m)\u001b[0m\u001b[0;34m)\u001b[0m\u001b[0;34m\u001b[0m\u001b[0;34m\u001b[0m\u001b[0m\n\u001b[1;32m      4\u001b[0m \u001b[0mclipped_data\u001b[0m \u001b[0;34m=\u001b[0m \u001b[0mclosing_data\u001b[0m\u001b[0;34m[\u001b[0m\u001b[0mnum_days\u001b[0m\u001b[0;34m//\u001b[0m\u001b[0;36m2\u001b[0m\u001b[0;34m:\u001b[0m\u001b[0mlen\u001b[0m\u001b[0;34m(\u001b[0m\u001b[0mclosing_data\u001b[0m\u001b[0;34m)\u001b[0m\u001b[0;34m-\u001b[0m\u001b[0mnum_days\u001b[0m\u001b[0;34m//\u001b[0m\u001b[0;36m2\u001b[0m\u001b[0;34m]\u001b[0m\u001b[0;34m\u001b[0m\u001b[0;34m\u001b[0m\u001b[0m\n\u001b[1;32m      5\u001b[0m \u001b[0mplt\u001b[0m\u001b[0;34m.\u001b[0m\u001b[0mplot\u001b[0m\u001b[0;34m(\u001b[0m\u001b[0mrange\u001b[0m\u001b[0;34m(\u001b[0m\u001b[0mlen\u001b[0m\u001b[0;34m(\u001b[0m\u001b[0mclipped_data\u001b[0m\u001b[0;34m)\u001b[0m\u001b[0;34m)\u001b[0m\u001b[0;34m,\u001b[0m\u001b[0mclipped_data\u001b[0m\u001b[0;34m,\u001b[0m\u001b[0mlabel\u001b[0m\u001b[0;34m=\u001b[0m\u001b[0;34m\"Actual closing data\"\u001b[0m\u001b[0;34m,\u001b[0m\u001b[0mcolor\u001b[0m\u001b[0;34m=\u001b[0m\u001b[0;34m\"k\"\u001b[0m\u001b[0;34m)\u001b[0m\u001b[0;34m\u001b[0m\u001b[0;34m\u001b[0m\u001b[0m\n",
      "\u001b[0;32m<ipython-input-63-d4bd4bd72350>\u001b[0m in \u001b[0;36mget_smoothened_data\u001b[0;34m(stock_prices, num_days)\u001b[0m\n\u001b[1;32m     12\u001b[0m     \u001b[0macc\u001b[0m \u001b[0;34m=\u001b[0m \u001b[0;36m0\u001b[0m \u001b[0;31m# variable to accumulate values\u001b[0m\u001b[0;34m\u001b[0m\u001b[0;34m\u001b[0m\u001b[0m\n\u001b[1;32m     13\u001b[0m     \u001b[0;31m# create a for loop going from the value of i to the value \"i+num_days\"\u001b[0m\u001b[0;34m\u001b[0m\u001b[0;34m\u001b[0m\u001b[0;34m\u001b[0m\u001b[0m\n\u001b[0;32m---> 14\u001b[0;31m     \u001b[0;32mfor\u001b[0m \u001b[0mj\u001b[0m \u001b[0;32min\u001b[0m \u001b[0mrange\u001b[0m\u001b[0;34m(\u001b[0m\u001b[0;34m)\u001b[0m\u001b[0;34m:\u001b[0m\u001b[0;34m\u001b[0m\u001b[0;34m\u001b[0m\u001b[0m\n\u001b[0m\u001b[1;32m     15\u001b[0m       \u001b[0macc\u001b[0m \u001b[0;34m=\u001b[0m \u001b[0macc\u001b[0m \u001b[0;34m+\u001b[0m \u001b[0mstock_prices\u001b[0m\u001b[0;34m[\u001b[0m\u001b[0mj\u001b[0m\u001b[0;34m]\u001b[0m\u001b[0;34m\u001b[0m\u001b[0;34m\u001b[0m\u001b[0m\n\u001b[1;32m     16\u001b[0m     \u001b[0mavg\u001b[0m \u001b[0;34m=\u001b[0m \u001b[0macc\u001b[0m\u001b[0;34m/\u001b[0m\u001b[0mnum_days\u001b[0m\u001b[0;34m\u001b[0m\u001b[0;34m\u001b[0m\u001b[0m\n",
      "\u001b[0;31mTypeError\u001b[0m: range expected 1 arguments, got 0"
     ]
    }
   ],
   "source": [
    "# Play around with the value of num_days and see how different does your graph look!\n",
    "num_days = 10\n",
    "data = get_smoothened_data(closing_data,num_days)\n",
    "plt.figure(figsize = (15,6))\n",
    "clipped_data = closing_data[num_days//2:len(closing_data)-num_days//2]\n",
    "plt.plot(range(len(clipped_data)),clipped_data,label=\"Actual closing data\",color=\"k\")\n",
    "plt.plot(range(len(data)),data,label=\"Averaged Data\",color=\"r\")\n",
    "plt.xlabel(\"Data points in number of days\")\n",
    "plt.ylabel(\"Price in USD\")\n",
    "plt.title(\"Comparison of noisy stock data vs averaged stock data\")\n",
    "plt.legend()"
   ]
  },
  {
   "cell_type": "markdown",
   "metadata": {
    "colab_type": "text",
    "id": "buIatk9nKonD"
   },
   "source": [
    "***\n",
    "## Going Forward"
   ]
  },
  {
   "cell_type": "markdown",
   "metadata": {
    "colab_type": "text",
    "id": "6ysqae-HKonE"
   },
   "source": [
    "This concludes our introduction to Python workshop, I hope you learned something! In order to practice your Python skills, you can either code directly on sites like https://repl.it/languages, which offer an in-browser text editor and Python compiler. Or, you can write and run Python programs from your command line or terminal on whatever OS you're on by writing a file ending in .py, and typing `python filename.py`.\n",
    "\n",
    "Python is a really fun and simple language to learn, and I highly recommend continuing to practice. There are websites that can teach you how to create very cool programs, and they are all a Google search away.\n"
   ]
  }
 ],
 "metadata": {
  "colab": {
   "collapsed_sections": [
    "9fDGfmwbsi7V",
    "lHPgFtLMKoju",
    "qa5taisVKoj6",
    "gqcB16QhKokO",
    "UIl_DrePKokh",
    "mSQF27XgKoko",
    "viHSrdWHKolF",
    "c9CMU3UuKolJ",
    "6-MIv12WKolk",
    "TZZ4f85qKomH",
    "Mjy1W3mhKomL",
    "HJSvXw7DKome",
    "XWQHxaPlKomq"
   ],
   "name": "intro_python_workshop.ipynb",
   "provenance": [],
   "version": "0.3.2"
  },
  "kernelspec": {
   "display_name": "Python 3",
   "language": "python",
   "name": "python3"
  },
  "language_info": {
   "codemirror_mode": {
    "name": "ipython",
    "version": 3
   },
   "file_extension": ".py",
   "mimetype": "text/x-python",
   "name": "python",
   "nbconvert_exporter": "python",
   "pygments_lexer": "ipython3",
   "version": "3.6.7"
  }
 },
 "nbformat": 4,
 "nbformat_minor": 1
}
