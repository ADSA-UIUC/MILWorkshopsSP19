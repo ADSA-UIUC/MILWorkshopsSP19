{
 "cells": [
  {
   "cell_type": "markdown",
   "metadata": {
    "colab_type": "text",
    "id": "9JjEgNOYnf9X"
   },
   "source": [
    "![ADSA Logo](http://i.imgur.com/BV0CdHZ.png?2 \"ADSA Logo\")"
   ]
  },
  {
   "cell_type": "markdown",
   "metadata": {
    "colab_type": "text",
    "id": "ds15bpiNnrTv"
   },
   "source": [
    "# ADSA Python Workshop"
   ]
  },
  {
   "cell_type": "markdown",
   "metadata": {
    "colab_type": "text",
    "id": "9fDGfmwbsi7V"
   },
   "source": [
    "## Agenda"
   ]
  },
  {
   "cell_type": "markdown",
   "metadata": {
    "colab_type": "text",
    "id": "GFp8pZdxKEuq"
   },
   "source": [
    "* #### Understand the ABC's of Python\n",
    "\n",
    "\n",
    "* Work with basic data structures\n",
    "\n",
    "\n",
    "* Create loops\n",
    "\n",
    "\n",
    "* Declare functions\n",
    "\n",
    "\n",
    "* See how this applies to a real-word financial context"
   ]
  },
  {
   "cell_type": "markdown",
   "metadata": {
    "colab_type": "text",
    "id": "imlk8MCnJ9w_"
   },
   "source": [
    "## What is Python?\n",
    "Python is a general purpose programming language created in the late 1980s, and named after Monty Python, that’s used by thousands of people to do things from testing microchips at Intel, to powering Instagram, to building video games with the PyGame library. It’s small, very closely resembles the English language, and has hundreds of existing third-party libraries. Some of these libraries are scientific and numeric computing libraries which can be used to analyze large amounts of data! \n"
   ]
  },
  {
   "cell_type": "markdown",
   "metadata": {
    "colab_type": "text",
    "id": "lHPgFtLMKoju"
   },
   "source": [
    "## Hello world!"
   ]
  },
  {
   "cell_type": "markdown",
   "metadata": {
    "colab_type": "text",
    "id": "eE1I-jHiKojw"
   },
   "source": [
    "Let's start with a classic \"Hello world!\" program. In order to print text to a screen in Python, we can use the `print` function followed by text in quotations. Run the code block below to see its output."
   ]
  },
  {
   "cell_type": "code",
   "execution_count": 0,
   "metadata": {
    "colab": {},
    "colab_type": "code",
    "id": "m8J7Sse-Kojw"
   },
   "outputs": [],
   "source": [
    "print(\"Hello world!\")"
   ]
  },
  {
   "cell_type": "markdown",
   "metadata": {
    "colab_type": "text",
    "id": "YrTLGkK5Koj0"
   },
   "source": [
    "### Exercise \n",
    "Now try printing `\"I am learning Python!\"` onto the screen by typing your code into the block below."
   ]
  },
  {
   "cell_type": "code",
   "execution_count": 0,
   "metadata": {
    "colab": {},
    "colab_type": "code",
    "id": "t5WUE9jDKoj0"
   },
   "outputs": [],
   "source": [
    "# Enter your code below"
   ]
  },
  {
   "cell_type": "markdown",
   "metadata": {
    "colab_type": "text",
    "id": "9Ze7-Ds8Koj2"
   },
   "source": [
    "***\n",
    "## Comments\n",
    "If any line starts with a `#`, then the Python interpreter ignores that line when running your code. You can use these lines, called comments, to annotate and explain your code. '''...''' can be used for multiline comments as well!"
   ]
  },
  {
   "cell_type": "code",
   "execution_count": 0,
   "metadata": {
    "colab": {},
    "colab_type": "code",
    "id": "yzUL976wKoj3"
   },
   "outputs": [],
   "source": [
    "# This is a comment.\n",
    "# This line is not executed by the interpreter.\n",
    "# print \"This won\"t print\" because it has a #\n",
    "# The line below this does not start with #, it will be executed.\n",
    "\n",
    "\"\"\"\n",
    "This is a multiline comment,\n",
    "it can have as many lines as\n",
    "you want!\n",
    "\"\"\"\n",
    "\n",
    "print(\"This is not a comment.\")"
   ]
  },
  {
   "cell_type": "markdown",
   "metadata": {
    "colab_type": "text",
    "id": "qa5taisVKoj6"
   },
   "source": [
    "***\n",
    "## Variables and Data Types"
   ]
  },
  {
   "cell_type": "markdown",
   "metadata": {
    "colab_type": "text",
    "id": "Wm_jl7MGKoj6"
   },
   "source": [
    "A variable is used to hold a value. Variables and values have an associated datatype. Common datatypes are:\n",
    "* `string` (text)\n",
    "* `int` (integer)\n",
    "* `float` (decimal value)\n",
    "* `bool` (binary `True` or `False` values)\n",
    "* Many more \n",
    "\n",
    "In many programming languages, you must specify what datatype your variable is, however, Python is able to tell the type based on the value you enter. When you declare a variable, you give the variable a name, and specify its value."
   ]
  },
  {
   "cell_type": "markdown",
   "metadata": {
    "colab_type": "text",
    "id": "1VfB59quKoj7"
   },
   "source": [
    "### Strings\n",
    "Strings are a set of characters. They must always be enclosed in either single or double-quotes. This is how you declare the string variable with name `my_string` and value `\"Hello!\"`."
   ]
  },
  {
   "cell_type": "code",
   "execution_count": 0,
   "metadata": {
    "colab": {},
    "colab_type": "code",
    "id": "hYEQxQ-jKoj7"
   },
   "outputs": [],
   "source": [
    "my_string = \"Chancellor Jones\"\n",
    "thing = \"\""
   ]
  },
  {
   "cell_type": "markdown",
   "metadata": {
    "colab_type": "text",
    "id": "PJ4fcXXnKoj-"
   },
   "source": [
    "Now we can print the variable `my_string` using the print command like so: `print my_string`. Note that in Python 3 you have to write this as print(my_string) with parenthesis."
   ]
  },
  {
   "cell_type": "code",
   "execution_count": 0,
   "metadata": {
    "colab": {},
    "colab_type": "code",
    "id": "xjdQlsrYKoj-"
   },
   "outputs": [],
   "source": [
    "print(my_string)"
   ]
  },
  {
   "cell_type": "markdown",
   "metadata": {
    "colab_type": "text",
    "id": "_4t_JdK0KokB"
   },
   "source": [
    "In order to create multiline strings, we can use three sets of single or double quotes like this:"
   ]
  },
  {
   "cell_type": "code",
   "execution_count": 0,
   "metadata": {
    "colab": {},
    "colab_type": "code",
    "id": "rG2jKpzXKokE"
   },
   "outputs": [],
   "source": [
    "multi_line_string = \"\"\"This is the first line of our string\n",
    "and this is the second,\n",
    "and woah! A third line!\n",
    "\"\"\"\n",
    "\n",
    "print(multi_line_string)"
   ]
  },
  {
   "cell_type": "markdown",
   "metadata": {
    "colab_type": "text",
    "id": "YHp-qwH4KokI"
   },
   "source": [
    "To determine the length (number of characters in a string) we can use the built-in Python function len() like this:"
   ]
  },
  {
   "cell_type": "code",
   "execution_count": 0,
   "metadata": {
    "colab": {},
    "colab_type": "code",
    "id": "LMu33hmeKokI"
   },
   "outputs": [],
   "source": [
    "print(len(\"You can enter a string like this\"))\n",
    "\n",
    "new_string = \"Or you can enter a variable like this!\"\n",
    "\n",
    "print(len(new_string))"
   ]
  },
  {
   "cell_type": "markdown",
   "metadata": {
    "colab_type": "text",
    "id": "wuDVh08yKokK"
   },
   "source": [
    "Many other string operations exist which can be found here: https://docs.python.org/2/library/string.html\n",
    "\n",
    "For instance, if we wanted to turn a string to lowercase, we could use the .lower() method like this:"
   ]
  },
  {
   "cell_type": "code",
   "execution_count": 0,
   "metadata": {
    "colab": {},
    "colab_type": "code",
    "id": "eQQgowMXKokL"
   },
   "outputs": [],
   "source": [
    "my_string = \"HELLO\"\n",
    "\n",
    "print(my_string.lower())"
   ]
  },
  {
   "cell_type": "markdown",
   "metadata": {
    "colab_type": "text",
    "id": "gqcB16QhKokO"
   },
   "source": [
    "#### Concatenating Strings\n",
    "You can combine multiple strings into a single string using the `+`. In the code below, we are concatenating the strings in variables `first_name` and `last_name` to create the variable `full_name`, and then printing it. Replace the value for first_name and last_name with your name, and run the program. "
   ]
  },
  {
   "cell_type": "code",
   "execution_count": 0,
   "metadata": {
    "colab": {},
    "colab_type": "code",
    "id": "ZYdI24sDKokP"
   },
   "outputs": [],
   "source": [
    "first_name = \"Joe \"\n",
    "last_name = \"Python\"\n",
    "\n",
    "full_name = first_name + last_name \n",
    "print(full_name)"
   ]
  },
  {
   "cell_type": "markdown",
   "metadata": {
    "colab_type": "text",
    "id": "QhCoTv8wKokQ"
   },
   "source": [
    "Now create two strings with names `word1` and `word2` and concatenate them to form the string `BigData`. Store this in the variable `my_word`."
   ]
  },
  {
   "cell_type": "code",
   "execution_count": 0,
   "metadata": {
    "colab": {},
    "colab_type": "code",
    "id": "n9ffoqvTKokQ"
   },
   "outputs": [],
   "source": [
    "word1 = \n",
    "word2 = \n",
    "\n",
    "my_word = "
   ]
  },
  {
   "cell_type": "markdown",
   "metadata": {
    "colab_type": "text",
    "id": "92beM2pEKokT"
   },
   "source": [
    "You can add a space between the two concatenated strings like so:"
   ]
  },
  {
   "cell_type": "code",
   "execution_count": 0,
   "metadata": {
    "colab": {},
    "colab_type": "code",
    "id": "WWl97k-ZKokW"
   },
   "outputs": [],
   "source": [
    "my_word = word1 + \" \" + word2\n",
    "print(my_word)"
   ]
  },
  {
   "cell_type": "markdown",
   "metadata": {
    "colab_type": "text",
    "id": "UIl_DrePKokh"
   },
   "source": [
    "### Type Casting"
   ]
  },
  {
   "cell_type": "markdown",
   "metadata": {
    "colab_type": "text",
    "id": "gIsHmGSDKokh"
   },
   "source": [
    "Some times Python isn't sure what we want when trying to combine variables of different types."
   ]
  },
  {
   "cell_type": "code",
   "execution_count": 0,
   "metadata": {
    "colab": {},
    "colab_type": "code",
    "id": "-jyawLu-Koki"
   },
   "outputs": [],
   "source": [
    "num = 5\n",
    "print(\"My favorite number is \" + 5) # This will print an error"
   ]
  },
  {
   "cell_type": "markdown",
   "metadata": {
    "colab_type": "text",
    "id": "pG-03hDnKokk"
   },
   "source": [
    "In order to get around this example, we can either use a formatted string, or what\"s known as \"type casting\" or \"type converting\" the variable num. Type casting is a special Python syntax which allows us to change the data type of a variable when we use it. We can use the str(), int(), long(), or a number of functions to convert data types. ([Here](http://www.informit.com/articles/article.aspx?p=459269&seqNum=7) is a larger list of conversion functions)"
   ]
  },
  {
   "cell_type": "code",
   "execution_count": 0,
   "metadata": {
    "colab": {},
    "colab_type": "code",
    "id": "d5gVRjjAKokm"
   },
   "outputs": [],
   "source": [
    "num = 5\n",
    "print(\"My favorite number is \" + str(num)) # This will now work"
   ]
  },
  {
   "cell_type": "markdown",
   "metadata": {
    "colab_type": "text",
    "id": "mSQF27XgKoko"
   },
   "source": [
    "***\n",
    "### Numbers and Math"
   ]
  },
  {
   "cell_type": "markdown",
   "metadata": {
    "colab_type": "text",
    "id": "xcJwuHoDKoko"
   },
   "source": [
    "You can do all of the basic operations with integers. Addition and subtraction use the standard plus and minus symbols. Multiplication uses the asterisk, and division uses a forward slash. Exponents use two asterisks."
   ]
  },
  {
   "cell_type": "code",
   "execution_count": 0,
   "metadata": {
    "colab": {},
    "colab_type": "code",
    "id": "jysUjJpyKokp"
   },
   "outputs": [],
   "source": [
    "print(3+2)"
   ]
  },
  {
   "cell_type": "code",
   "execution_count": 0,
   "metadata": {
    "colab": {},
    "colab_type": "code",
    "id": "cnBQKZq7Koks"
   },
   "outputs": [],
   "source": [
    "print(3-2)"
   ]
  },
  {
   "cell_type": "code",
   "execution_count": 0,
   "metadata": {
    "colab": {},
    "colab_type": "code",
    "id": "cbyhxdENKoku"
   },
   "outputs": [],
   "source": [
    "print(3*2)"
   ]
  },
  {
   "cell_type": "code",
   "execution_count": 0,
   "metadata": {
    "colab": {
     "base_uri": "https://localhost:8080/",
     "height": 35
    },
    "colab_type": "code",
    "id": "BMRUdPSIKokw",
    "outputId": "eaddf45b-3487-4458-d019-cc3c3fa43290"
   },
   "outputs": [
    {
     "name": "stdout",
     "output_type": "stream",
     "text": [
      "1.5\n"
     ]
    }
   ],
   "source": [
    "print(3/2) # Dividing two integers returns the nearest integer rounded down in Python 2.7"
   ]
  },
  {
   "cell_type": "markdown",
   "metadata": {
    "colab_type": "text",
    "id": "MRkjEa8NKokx"
   },
   "source": [
    "Didn't expect `3/2 = 1`, did you?\n",
    "\n",
    "In Python 2.7, division returns an integer value. To return a floating point (real) number, you can either convert one of two numbers to a float value, or use Python's `__future__` module"
   ]
  },
  {
   "cell_type": "code",
   "execution_count": 0,
   "metadata": {
    "colab": {},
    "colab_type": "code",
    "id": "VFIupli4Koky"
   },
   "outputs": [],
   "source": [
    "print(3%2) # This is the modulus symbol, it divides the number and uses the remainder\n",
    "          # with respect to 2\n",
    "print(6%8) # Here's another example, since 8 doesn't divide 6, the remainder is 6"
   ]
  },
  {
   "cell_type": "code",
   "execution_count": 0,
   "metadata": {
    "colab": {},
    "colab_type": "code",
    "id": "5f001waNKok0"
   },
   "outputs": [],
   "source": [
    "print(3./2)"
   ]
  },
  {
   "cell_type": "code",
   "execution_count": 0,
   "metadata": {
    "colab": {},
    "colab_type": "code",
    "id": "kb0l-XoiKok2"
   },
   "outputs": [],
   "source": [
    "# If we want to return the real value from integer division\n",
    "# we can import the Python module division from __future__\n",
    "from __future__ import division \n",
    "\n",
    "print(3/2)"
   ]
  },
  {
   "cell_type": "code",
   "execution_count": 0,
   "metadata": {
    "colab": {},
    "colab_type": "code",
    "id": "rXOZqPhbKok4"
   },
   "outputs": [],
   "source": [
    "print(3**2) # This equates to 3^2"
   ]
  },
  {
   "cell_type": "markdown",
   "metadata": {
    "colab_type": "text",
    "id": "QVkw8QsNKok6"
   },
   "source": [
    "With decimal numbers (called `float`), you can do the same operations."
   ]
  },
  {
   "cell_type": "code",
   "execution_count": 0,
   "metadata": {
    "colab": {},
    "colab_type": "code",
    "id": "p2fakiZoKok6"
   },
   "outputs": [],
   "source": [
    "print(1.7*4.4)"
   ]
  },
  {
   "cell_type": "code",
   "execution_count": 0,
   "metadata": {
    "colab": {},
    "colab_type": "code",
    "id": "_PJ890EIKok9"
   },
   "outputs": [],
   "source": [
    "print(33.3/11.1)"
   ]
  },
  {
   "cell_type": "markdown",
   "metadata": {
    "colab_type": "text",
    "id": "q29EUAzcKolA"
   },
   "source": [
    "And like strings, you can store them in variables and refer to them by the variable names."
   ]
  },
  {
   "cell_type": "code",
   "execution_count": 0,
   "metadata": {
    "colab": {},
    "colab_type": "code",
    "id": "E7nXOmZ8KolC"
   },
   "outputs": [],
   "source": [
    "x = 5\n",
    "y = 12\n",
    "\n",
    "# The + sign below does not concatenate the two variables X and Y because they are not strings.\n",
    "# The + sign in this case will compute the sum of the two variables.\n",
    "print(x+y)"
   ]
  },
  {
   "cell_type": "markdown",
   "metadata": {
    "colab_type": "text",
    "id": "viHSrdWHKolF"
   },
   "source": [
    "### Exercise \n",
    "Now try storing the value of `x-squared plus y-squared` in the variable z."
   ]
  },
  {
   "cell_type": "code",
   "execution_count": 0,
   "metadata": {
    "colab": {},
    "colab_type": "code",
    "id": "j--cJTDVKolG"
   },
   "outputs": [],
   "source": [
    "# Enter your code below"
   ]
  }
 ],
 "metadata": {
  "colab": {
   "collapsed_sections": [
    "9fDGfmwbsi7V",
    "lHPgFtLMKoju",
    "qa5taisVKoj6",
    "gqcB16QhKokO",
    "UIl_DrePKokh",
    "mSQF27XgKoko",
    "viHSrdWHKolF",
    "c9CMU3UuKolJ",
    "6-MIv12WKolk",
    "TZZ4f85qKomH",
    "Mjy1W3mhKomL",
    "HJSvXw7DKome",
    "XWQHxaPlKomq"
   ],
   "name": "intro_python_workshop.ipynb",
   "provenance": [],
   "version": "0.3.2"
  },
  "kernelspec": {
   "display_name": "Python 3",
   "language": "python",
   "name": "python3"
  },
  "language_info": {
   "codemirror_mode": {
    "name": "ipython",
    "version": 3
   },
   "file_extension": ".py",
   "mimetype": "text/x-python",
   "name": "python",
   "nbconvert_exporter": "python",
   "pygments_lexer": "ipython3",
   "version": "3.6.7"
  }
 },
 "nbformat": 4,
 "nbformat_minor": 1
}
