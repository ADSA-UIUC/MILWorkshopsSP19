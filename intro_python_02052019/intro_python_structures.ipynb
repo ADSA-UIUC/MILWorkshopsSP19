{
 "cells": [
  {
   "cell_type": "markdown",
   "metadata": {
    "colab_type": "text",
    "id": "9JjEgNOYnf9X"
   },
   "source": [
    "![ADSA Logo](http://i.imgur.com/BV0CdHZ.png?2 \"ADSA Logo\")"
   ]
  },
  {
   "cell_type": "markdown",
   "metadata": {
    "colab_type": "text",
    "id": "ds15bpiNnrTv"
   },
   "source": [
    "# ADSA Python Workshop"
   ]
  },
  {
   "cell_type": "markdown",
   "metadata": {
    "colab_type": "text",
    "id": "9fDGfmwbsi7V"
   },
   "source": [
    "## Agenda"
   ]
  },
  {
   "cell_type": "markdown",
   "metadata": {
    "colab_type": "text",
    "id": "GFp8pZdxKEuq"
   },
   "source": [
    "* Understand the ABC's of Python\n",
    "* #### Work with basic data structures\n",
    "* #### Create loops\n",
    "\n",
    "\n",
    "* Declare functions\n",
    "\n",
    "\n",
    "* See how this applies to a real-word financial context"
   ]
  },
  {
   "cell_type": "markdown",
   "metadata": {
    "colab_type": "text",
    "id": "c9CMU3UuKolJ"
   },
   "source": [
    "***\n",
    "## If-Else Conditional\n",
    "Has an application ever asked you a question? Maybe it asked you if you really want to quit because unsaved changes might be lost, or if you want to leave a webpage. If you answer OK, one thing happens. But if you answer No or Cancel, something else happens. In all those cases there is a special piece of code that is being run somewhere in the code. It is an if condition.\n",
    "\n",
    "Like all languages, Python allows us to conditionally run code.\n",
    "\n",
    "To have an if condition we need the idea of something being true and something being false. Remember, we call numbers \"integers\" and \"floating point\", and text \"strings\". We call `True` or `False` \"boolean\" values. `True` would represent OK where as `False` would represent No or Cancel in the example above.\n",
    "\n",
    "The literal values in Python for true and false are `True` and `False`"
   ]
  },
  {
   "cell_type": "markdown",
   "metadata": {
    "colab_type": "text",
    "id": "FC65tYICKolJ"
   },
   "source": [
    "Try running the blocks of code below to get a sense of how boolean conditions work."
   ]
  },
  {
   "cell_type": "code",
   "execution_count": 0,
   "metadata": {
    "colab": {},
    "colab_type": "code",
    "id": "MMElLYtVKolK"
   },
   "outputs": [],
   "source": [
    "1 > 2"
   ]
  },
  {
   "cell_type": "code",
   "execution_count": 0,
   "metadata": {
    "colab": {},
    "colab_type": "code",
    "id": "pKPVsFFrKolM"
   },
   "outputs": [],
   "source": [
    "\"Cool\".startswith(\"C\")"
   ]
  },
  {
   "cell_type": "code",
   "execution_count": 0,
   "metadata": {
    "colab": {},
    "colab_type": "code",
    "id": "xCWjQLyvKolO"
   },
   "outputs": [],
   "source": [
    "\"Cool\".endswith(\"C\")"
   ]
  },
  {
   "cell_type": "code",
   "execution_count": 0,
   "metadata": {
    "colab": {},
    "colab_type": "code",
    "id": "Bc-lsTMVKolQ"
   },
   "outputs": [],
   "source": [
    "\"oo\" in \"Cool\""
   ]
  },
  {
   "cell_type": "code",
   "execution_count": 0,
   "metadata": {
    "colab": {},
    "colab_type": "code",
    "id": "PJCB03j4KolT"
   },
   "outputs": [],
   "source": [
    "42 == 1 # note the double equals sign for equality"
   ]
  },
  {
   "cell_type": "markdown",
   "metadata": {
    "colab_type": "text",
    "id": "irwpyJ4BKolW"
   },
   "source": [
    "As in the example above, Python differentiates between `=` and `==`. The single equality symbol `=` is used to assign the value on the right to the variable on the left, like so:\n",
    "\n",
    "    my_variable = 59\n",
    "\n",
    "The double equality symbol `==` is used to compare two quantities. `==` gives us a result of `True` or `False`."
   ]
  },
  {
   "cell_type": "markdown",
   "metadata": {
    "colab_type": "text",
    "id": "ql-EuvdAKolW"
   },
   "source": [
    "In order to write an \"if\" statement we need code that spans multiple lines\n",
    "\n",
    "    if condition:\n",
    "        print(\"Condition is True\")\n",
    "    else:\n",
    "        print(\"Condition is False\")\n",
    "\n",
    "Some things to notice. The if condition ends in a colon (\":\"). In Python blocks of code are indicated with a colon (\":\") and are grouped by white space. Notice the else also ends with a colon (\":\"), \"else:\". Let's try changing the condition and see what happens."
   ]
  },
  {
   "cell_type": "code",
   "execution_count": 0,
   "metadata": {
    "colab": {},
    "colab_type": "code",
    "id": "ZPYadaX6KolX"
   },
   "outputs": [],
   "source": [
    "# condition holds either a True or False value\n",
    "condition = 1 > 2\n",
    "if condition:\n",
    "    print(\"Condition is True\")\n",
    "else:\n",
    "    print(\"Condition is False\")"
   ]
  },
  {
   "cell_type": "markdown",
   "metadata": {
    "colab_type": "text",
    "id": "2UuhlCQeKold"
   },
   "source": [
    "About that white space, consider the following code below. Since the last print statement isn't indented it gets run after the if block or the else block. Also note that the comparison condition can be directly used in the if statement and does not have to be stored in a variable."
   ]
  },
  {
   "cell_type": "code",
   "execution_count": 0,
   "metadata": {
    "colab": {},
    "colab_type": "code",
    "id": "baXsOZ5gKold"
   },
   "outputs": [],
   "source": [
    "if 35 >= 17:\n",
    "    print(\"Condition is True\")\n",
    "else:\n",
    "    print(\"Condition is False\")\n",
    "print(\"Condition can be True or False, either way this is outputted because it is not indented.\")"
   ]
  },
  {
   "cell_type": "markdown",
   "metadata": {
    "colab_type": "text",
    "id": "Kzf_JPm_Kolh"
   },
   "source": [
    "You can also use boolean logic inside if conditions using the keywords `and`, `or`, and `not`."
   ]
  },
  {
   "cell_type": "code",
   "execution_count": 0,
   "metadata": {
    "colab": {},
    "colab_type": "code",
    "id": "W_91XkzPKoli"
   },
   "outputs": [],
   "source": [
    "if \"zo\" not in \"Cool\" and 20/5 == 4:\n",
    "    print(\"Awesome!\")\n",
    "else:\n",
    "    print(\"Aww shucks!\")"
   ]
  },
  {
   "cell_type": "markdown",
   "metadata": {
    "colab_type": "text",
    "id": "6-MIv12WKolk"
   },
   "source": [
    "***\n",
    "## Data Structures"
   ]
  },
  {
   "cell_type": "markdown",
   "metadata": {
    "colab_type": "text",
    "id": "x3aBh6O_Kolk"
   },
   "source": [
    "While declaring simple variables to hold data is very useful, once you begin working with a large set of related data or values, it becomes necessary to group this collection of data in some sort of structure to work with.\n",
    "\n",
    "Below, we will discuss a few fundamental data structures in Python and computer science in general."
   ]
  },
  {
   "cell_type": "markdown",
   "metadata": {
    "colab_type": "text",
    "id": "_d7pWrmfKolk"
   },
   "source": [
    "### Lists"
   ]
  },
  {
   "cell_type": "markdown",
   "metadata": {
    "colab_type": "text",
    "id": "dNoyDUs2Koll"
   },
   "source": [
    "Lists are perhaps the most fundemantal data structure in Python. A Python `List` is very similar to what other languages call an `Array`, however it has some added functionality.\n",
    "\n",
    "A list in Python is just like a shopping list or a list of numbers. They have a defined order and you can add to it or remove from it.\n",
    "\n",
    "Let's take a look at some simple lists."
   ]
  },
  {
   "cell_type": "code",
   "execution_count": 0,
   "metadata": {
    "colab": {},
    "colab_type": "code",
    "id": "bIOc1EBuKolm"
   },
   "outputs": [],
   "source": [
    "# The empty list\n",
    "[]"
   ]
  },
  {
   "cell_type": "code",
   "execution_count": 0,
   "metadata": {
    "colab": {},
    "colab_type": "code",
    "id": "VZKvBKEhKoln"
   },
   "outputs": [],
   "source": [
    "[\"Milk\", \"Eggs\", \"Bacon\"]"
   ]
  },
  {
   "cell_type": "code",
   "execution_count": 0,
   "metadata": {
    "colab": {},
    "colab_type": "code",
    "id": "oO4M09Z9Kolq"
   },
   "outputs": [],
   "source": [
    "[1, 2, 3]"
   ]
  },
  {
   "cell_type": "markdown",
   "metadata": {
    "colab_type": "text",
    "id": "2qW-mUdOKols"
   },
   "source": [
    "List literals are all about square brackets (\"[ ]\") and commas (\",\"). You can create a list of literals by wrapping them in square brackets and separating them with commas.\n",
    "\n",
    "You can even mix different types of things into the same list; numbers, strings, booleans."
   ]
  },
  {
   "cell_type": "code",
   "execution_count": 0,
   "metadata": {
    "colab": {},
    "colab_type": "code",
    "id": "upgFjHeQKolt"
   },
   "outputs": [],
   "source": [
    "[True, 0, \"Awesome\"]"
   ]
  },
  {
   "cell_type": "markdown",
   "metadata": {
    "colab_type": "text",
    "id": "dJsIF18oKolx"
   },
   "source": [
    "We can put variables into a list and set a variable to a list."
   ]
  },
  {
   "cell_type": "code",
   "execution_count": 0,
   "metadata": {
    "colab": {},
    "colab_type": "code",
    "id": "J9gxGucvKoly"
   },
   "outputs": [],
   "source": [
    "your_name = \"Albert O'Connor\"\n",
    "awesome_people = [\"Eric Idle\", your_name]\n",
    "print(awesome_people)"
   ]
  },
  {
   "cell_type": "markdown",
   "metadata": {
    "colab_type": "text",
    "id": "fRzKIoyaKol0"
   },
   "source": [
    "You can append to a list. The following code lets you add an item to the end of a list."
   ]
  },
  {
   "cell_type": "code",
   "execution_count": 0,
   "metadata": {
    "colab": {},
    "colab_type": "code",
    "id": "vQAq-H50Kol1"
   },
   "outputs": [],
   "source": [
    "awesome_people.append(\"John Cleese\")\n",
    "print(awesome_people)"
   ]
  },
  {
   "cell_type": "markdown",
   "metadata": {
    "colab_type": "text",
    "id": "UZyjccDGKol3"
   },
   "source": [
    "Lists, like in many other languages, are 0-indexed. Which means that when you try to access the first element in the list, you use the index 0 like so:"
   ]
  },
  {
   "cell_type": "code",
   "execution_count": 0,
   "metadata": {
    "colab": {},
    "colab_type": "code",
    "id": "2BXApVVeKol4"
   },
   "outputs": [],
   "source": [
    "awesome_people[0]"
   ]
  },
  {
   "cell_type": "markdown",
   "metadata": {
    "colab_type": "text",
    "id": "Bll3jrWIKol5"
   },
   "source": [
    "And the second element like this:"
   ]
  },
  {
   "cell_type": "code",
   "execution_count": 0,
   "metadata": {
    "colab": {},
    "colab_type": "code",
    "id": "FpGTBxgUKol6"
   },
   "outputs": [],
   "source": [
    "awesome_people[1]"
   ]
  },
  {
   "cell_type": "markdown",
   "metadata": {
    "colab_type": "text",
    "id": "PPOL5nkmKol7"
   },
   "source": [
    "There are many Python functions which can be performed on Lists. Here is an example using Python's len() and sum() functions."
   ]
  },
  {
   "cell_type": "code",
   "execution_count": 0,
   "metadata": {
    "colab": {},
    "colab_type": "code",
    "id": "PmiBefpeKol-"
   },
   "outputs": [],
   "source": [
    "my_list = [1,2,3,4,5]\n",
    "\n",
    "print(len(my_list)) # Prints the number of items in the list\n",
    "\n",
    "print (sum(my_list)) # Sums up the total value of all integers in the list"
   ]
  },
  {
   "cell_type": "markdown",
   "metadata": {
    "colab_type": "text",
    "id": "dg5niSdsKol_"
   },
   "source": [
    "Another useful List operation is `in`, which returns true or false depending on if a value is or is not in a list."
   ]
  },
  {
   "cell_type": "code",
   "execution_count": 0,
   "metadata": {
    "colab": {},
    "colab_type": "code",
    "id": "B61my32LKomB"
   },
   "outputs": [],
   "source": [
    "my_list = [1,2,3,4,5]\n",
    "\n",
    "print(3 in my_list) # Checks if the value 3 appears in our list\n",
    "\n",
    "print(6 in my_list) # Checks if the value 6 appears in our list"
   ]
  },
  {
   "cell_type": "markdown",
   "metadata": {
    "colab_type": "text",
    "id": "TZZ4f85qKomH"
   },
   "source": [
    "### Exercise \n",
    "Write a program using If-Else conditionals and List operations which prints \"Buy eggs!\" if the word \"Eggs\" is in the shopping list variable, or adds \"Eggs\" to the shopping list if it is not in the list."
   ]
  },
  {
   "cell_type": "code",
   "execution_count": 0,
   "metadata": {
    "colab": {},
    "colab_type": "code",
    "id": "bcfnnZskKomH"
   },
   "outputs": [],
   "source": [
    "shopping_list = ['Bacon', 'Milk'] # Run this once to make the list then enter your code below"
   ]
  },
  {
   "cell_type": "code",
   "execution_count": 0,
   "metadata": {
    "colab": {},
    "colab_type": "code",
    "id": "G2O38HQ5KomI"
   },
   "outputs": [],
   "source": [
    "# Enter your code below"
   ]
  },
  {
   "cell_type": "markdown",
   "metadata": {
    "colab_type": "text",
    "id": "Mjy1W3mhKomL"
   },
   "source": [
    "## Dictionaries"
   ]
  },
  {
   "cell_type": "markdown",
   "metadata": {
    "colab_type": "text",
    "id": "EQLiDjQVKomM"
   },
   "source": [
    "Another fundamental and extremely useful data structure is a Python Dictionary. \n",
    "\n",
    "A dictionary is Python's implementation of a structure known as a Hash Table. Essentially, a dictionary keeps a record of `keys` associated with `values`. Keys can be categories, names, or anything you would like which may have an associated value. When looking through the dictionary, you then have the ability to quickly look up the associated value of a key. \n",
    "\n",
    "Dictionaries are easiest to explain by using an example. Below, I have created an example dictionary in which students in a class are the `keys` in a dictionary, and their grades are the `values`."
   ]
  },
  {
   "cell_type": "code",
   "execution_count": 0,
   "metadata": {
    "colab": {},
    "colab_type": "code",
    "id": "4D_iUNLKKomM"
   },
   "outputs": [],
   "source": [
    "empty_dict = {} # Dictionaries are declared using {} curly brackets "
   ]
  },
  {
   "cell_type": "code",
   "execution_count": 0,
   "metadata": {
    "colab": {},
    "colab_type": "code",
    "id": "RdpagnKsKomO"
   },
   "outputs": [],
   "source": [
    "# In this example, the dictionaries keys are students in a class, and the values are their grades\n",
    "class_grades = {\"Adam\": 86, \"Tim\": 93, \"Bill\": 70} "
   ]
  },
  {
   "cell_type": "markdown",
   "metadata": {
    "colab_type": "text",
    "id": "-c0vNHQ8KomR"
   },
   "source": [
    "By using [ ] square brackets, we can retrieve the value for any key which exists in the dictionary\n"
   ]
  },
  {
   "cell_type": "code",
   "execution_count": 0,
   "metadata": {
    "colab": {},
    "colab_type": "code",
    "id": "m6i4GmhyKomS"
   },
   "outputs": [],
   "source": [
    "print(class_grades[\"Adam\"])"
   ]
  },
  {
   "cell_type": "markdown",
   "metadata": {
    "colab_type": "text",
    "id": "ZQTP38k2KomU"
   },
   "source": [
    "Using square brackets to retrieve a value for a key that does not exist returns a `KEY ERROR`\n"
   ]
  },
  {
   "cell_type": "code",
   "execution_count": 0,
   "metadata": {
    "colab": {},
    "colab_type": "code",
    "id": "frIhSDXRKomV"
   },
   "outputs": [],
   "source": [
    "print(class_grades[\"Mark\"])"
   ]
  },
  {
   "cell_type": "markdown",
   "metadata": {
    "colab_type": "text",
    "id": "bmmnZklaKomW"
   },
   "source": [
    "To resolve this, you can either check if a key exists in the dictionary, or use a Python function called .get() which returns a defaults value of `None` if a key does not exist\n"
   ]
  },
  {
   "cell_type": "code",
   "execution_count": 0,
   "metadata": {
    "colab": {},
    "colab_type": "code",
    "id": "8M1AU4RGKomW"
   },
   "outputs": [],
   "source": [
    "# Using the regular in syntax will return true or false \n",
    "print(\"Mark\" in class_grades)\n",
    "\n",
    "# The .get() function returns `None` if the key is not found\n",
    "print(class_grades.get(\"Mark\"))"
   ]
  },
  {
   "cell_type": "markdown",
   "metadata": {
    "colab_type": "text",
    "id": "IfGvESfXKomZ"
   },
   "source": [
    "Dictionaries are commonly used to hold related sets of information, such as a tweet. Twitter and many companies actually use Python and dictionaries to deal with this type of information.\n",
    "\n",
    "Notice below how values can be any datatype, such as Strings, Integers, or even Lists."
   ]
  },
  {
   "cell_type": "code",
   "execution_count": 0,
   "metadata": {
    "colab": {},
    "colab_type": "code",
    "id": "QRszXROtKomZ"
   },
   "outputs": [],
   "source": [
    "tweet = {\n",
    "    \"user\"          : \"adsafan2016\",\n",
    "    \"text\"          : \"Data Science is Awesome\",\n",
    "    \"retweet_count\" : 32567,\n",
    "    \"hashtags\"      : [\"#data\", \"#science\", \"#datascience\", \"#awesome\", \"#yolo\"]\n",
    "}"
   ]
  },
  {
   "cell_type": "markdown",
   "metadata": {
    "colab_type": "text",
    "id": "HJSvXw7DKome"
   },
   "source": [
    "***\n",
    "## Loops"
   ]
  },
  {
   "cell_type": "markdown",
   "metadata": {
    "colab_type": "text",
    "id": "1BQJLreFKome"
   },
   "source": [
    "Indexes are useful, but lists really shine when you start looping.\n",
    "\n",
    "One of the most commonly used types of loops is called a `for` loop. A `for` loop lets you do something for each item in a list or collection. They syntax for a `for` loop is like an if statement, because they have an indented block.\n",
    "\n",
    "They look like this:\n",
    "\n",
    "    for item in list:\n",
    "        print(item) # Do any action per item in the list\n",
    "        \n",
    "A good interpretation of what is happening above in English would be:\n",
    "\n",
    "**\"For each item in list, print that item\"**.\n",
    "\n",
    "\"for\" and \"in\" are required. \"list\" can be any variable or literal which is like a list. \"item\" is the name you want to give each item of the list in the indented block as you iterate through. We call each step where item has a new value an iteration.\n",
    "\n",
    "Let's see it in action with our list:"
   ]
  },
  {
   "cell_type": "code",
   "execution_count": 0,
   "metadata": {
    "colab": {},
    "colab_type": "code",
    "id": "ckslogWXKomf"
   },
   "outputs": [],
   "source": [
    "# This is what out list of awesome people looks like right now:\n",
    "print(awesome_people)\n",
    "\n",
    "for person in awesome_people:\n",
    "    print(person)"
   ]
  },
  {
   "cell_type": "markdown",
   "metadata": {
    "colab_type": "text",
    "id": "RkQ_0tZ1Komk"
   },
   "source": [
    "This is bascially the same as writing:"
   ]
  },
  {
   "cell_type": "code",
   "execution_count": 0,
   "metadata": {
    "colab": {},
    "colab_type": "code",
    "id": "pDR58wm6Komk"
   },
   "outputs": [],
   "source": [
    "person = awesome_people[0]\n",
    "print(person)\n",
    "person = awesome_people[1]\n",
    "print(person)\n",
    "person = awesome_people[2]\n",
    "print(person)"
   ]
  },
  {
   "cell_type": "markdown",
   "metadata": {
    "colab_type": "text",
    "id": "X7Lse3CTKomn"
   },
   "source": [
    "But that is a lot more code than:\n",
    "\n",
    "    for person in awesome_people:\n",
    "        print(person)\n",
    "\n",
    "Considering that our list of awesome people could be very long!\n",
    "\n",
    "You can use the built-in function \"range\" to create lists of numbers easily."
   ]
  },
  {
   "cell_type": "code",
   "execution_count": 0,
   "metadata": {
    "colab": {},
    "colab_type": "code",
    "id": "X5Q1l0nNKomn"
   },
   "outputs": [],
   "source": [
    "range(0, 10)"
   ]
  },
  {
   "cell_type": "markdown",
   "metadata": {
    "colab_type": "text",
    "id": "HrMURjA2Komo"
   },
   "source": [
    "And then we can use that with a loop to print a list of squares. Note that we use special string formatting here in which `{0}` represents the first variable inside the format parentheses, and `{1}` represents the second variable."
   ]
  },
  {
   "cell_type": "code",
   "execution_count": 0,
   "metadata": {
    "colab": {},
    "colab_type": "code",
    "id": "TvuizxyeKomo"
   },
   "outputs": [],
   "source": [
    "for number in range(0, 10):\n",
    "    print(\"{0} squared is {1}\".format(number, number**2))"
   ]
  },
  {
   "cell_type": "markdown",
   "metadata": {},
   "source": [
    "As an exercise, try printing out each (key, value) pair in `tweet` on a new line."
   ]
  },
  {
   "cell_type": "code",
   "execution_count": null,
   "metadata": {},
   "outputs": [],
   "source": [
    "tweet = {\n",
    "    \"user\"          : \"adsafan2016\",\n",
    "    \"text\"          : \"Data Science is Awesome\",\n",
    "    \"retweet_count\" : 32567,\n",
    "    \"hashtags\"      : [\"#data\", \"#science\", \"#datascience\", \"#awesome\", \"#yolo\"]\n",
    "}\n",
    "for key, value in tweet.items():\n",
    "    # Your code here!"
   ]
  }
 ],
 "metadata": {
  "colab": {
   "collapsed_sections": [
    "9fDGfmwbsi7V",
    "lHPgFtLMKoju",
    "qa5taisVKoj6",
    "gqcB16QhKokO",
    "UIl_DrePKokh",
    "mSQF27XgKoko",
    "viHSrdWHKolF",
    "c9CMU3UuKolJ",
    "6-MIv12WKolk",
    "TZZ4f85qKomH",
    "Mjy1W3mhKomL",
    "HJSvXw7DKome",
    "XWQHxaPlKomq"
   ],
   "name": "intro_python_workshop.ipynb",
   "provenance": [],
   "version": "0.3.2"
  },
  "kernelspec": {
   "display_name": "Python 3",
   "language": "python",
   "name": "python3"
  },
  "language_info": {
   "codemirror_mode": {
    "name": "ipython",
    "version": 3
   },
   "file_extension": ".py",
   "mimetype": "text/x-python",
   "name": "python",
   "nbconvert_exporter": "python",
   "pygments_lexer": "ipython3",
   "version": "3.6.7"
  }
 },
 "nbformat": 4,
 "nbformat_minor": 1
}
